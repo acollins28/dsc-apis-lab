{
 "cells": [
  {
   "cell_type": "markdown",
   "metadata": {},
   "source": [
    "# APIs - Cumulative Lab\n",
    "\n",
    "\n",
    "## Introduction \n",
    "\n",
    "We've seen how the Yelp API works and how to create basic visualizations using Folium. It's time to put those skills to work in order to create a working map! Taking things a step further, you'll also independently explore how to perform pagination in order to retrieve a full results set from the Yelp API.\n",
    "\n",
    "## Objectives\n",
    "\n",
    "You will be able to: \n",
    "\n",
    "* Practice using functions to organize your code\n",
    "* Use pagination to retrieve all results from an API query\n",
    "* Practice parsing data returned from an API query\n",
    "* Practice interpreting visualizations of a dataset\n",
    "* Create maps using Folium"
   ]
  },
  {
   "cell_type": "markdown",
   "metadata": {},
   "source": [
    "## Your Task: Query Yelp for All Businesses in a Category and Analyze the Results\n",
    "\n",
    "![restaurant counter with pizza](images/restaurant_counter.jpg)\n",
    "\n",
    "Photo by <a href=\"https://unsplash.com/@jordanmadrid?utm_source=unsplash&utm_medium=referral&utm_content=creditCopyText\">Jordan Madrid</a> on <a href=\"/s/photos/pizza-restaurant?utm_source=unsplash&utm_medium=referral&utm_content=creditCopyText\">Unsplash</a>"
   ]
  },
  {
   "cell_type": "markdown",
   "metadata": {},
   "source": [
    "### Overview\n",
    "\n",
    "You've now worked with some API calls, but we have yet to see how to retrieve a more complete dataset in a programmatic manner. In this lab, you will write a query of businesses on Yelp, then use *pagination* to retrieve all possible results for that query. Then you will create a summary of your findings, including a Folium map of the geographic locations of those businesses.\n",
    "\n",
    "### Technical Details\n",
    "\n",
    "Returning to the Yelp API, the [documentation](https://www.yelp.com/developers/documentation/v3/business_search) also provides us details regarding the **API limits**. These often include details about the number of requests a user is allowed to make within a specified time limit and the maximum number of results to be returned. In this case, we are told that any request has a **maximum of 50 results per request** and defaults to 20. Furthermore, any search will be limited to a **total of 1000 results**. To retrieve all 1000 of these results, we would have to page through the results piece by piece, retrieving 50 at a time. Processes such as these are often referred to as pagination.\n",
    "\n",
    "Also, be mindful of the **API** ***rate*** **limits**. You can only make **5000 requests per day** and are also can make requests too fast. Start prototyping small before running a loop that could be faulty. You can also use `time.sleep(n)` to add delays. For more details see https://www.yelp.com/developers/documentation/v3/rate_limiting.\n",
    "\n",
    "In this lab, you will define a search and then paginate over the results to retrieve all of the results. You'll then parse these responses as a list of dictionaries (for further exploration) and create a map using Folium to visualize the results geographically.\n",
    "\n",
    "### Requirements\n",
    "\n",
    "#### 1. Make the Initial Request\n",
    "\n",
    "Start by filling in your API key to make the initial request to the business search API. Investigate the structure of the response you get back and start figuring out how you will extract the relevant information.\n",
    "\n",
    "#### 2. Add Pagination\n",
    "\n",
    "Using loops and functions, collect the maximum number of results for your query from the API.\n",
    "\n",
    "#### 3. Perform Exploratory Analysis\n",
    "\n",
    "Interpret visualizations related to the price range, average rating, and number of reviews for all query results.\n",
    "\n",
    "#### 4. Create a Folium Map\n",
    "\n",
    "Using latitude and longitude data, plot the query results on an interactive map."
   ]
  },
  {
   "cell_type": "markdown",
   "metadata": {},
   "source": [
    "## 1. Make the Initial Request\n",
    "\n",
    "### Querying\n",
    "\n",
    "Start by making an initial request to the Yelp API. Your search must include at least 2 parameters: **term** and **location**. For example, you might search for pizza restaurants in NYC. The term and location is up to you but make the request below.\n",
    "\n",
    "Use the `requests` library ([documentation here](https://requests.readthedocs.io/en/master/user/quickstart/#make-a-request)).\n",
    "\n",
    "You'll also need an API key from Yelp. If you haven't done this already, go to the Yelp [Manage App page](https://www.yelp.com/developers/v3/manage_app) and create a new app (after making an account if you haven't already)."
   ]
  },
  {
   "cell_type": "code",
   "execution_count": 1,
   "metadata": {},
   "outputs": [
    {
     "data": {
      "text/plain": [
       "<Response [200]>"
      ]
     },
     "execution_count": 1,
     "metadata": {},
     "output_type": "execute_result"
    }
   ],
   "source": [
    "# Replace None with appropriate code\n",
    "\n",
    "# Import the requests library\n",
    "import requests\n",
    "\n",
    "# Get this from the \"Manage App\" page. Make sure you set them\n",
    "# back to None before pushing this to GitHub, since otherwise\n",
    "# your credentials will be compromised\n",
    "api_key = none\n",
    "\n",
    "# These can be whatever you want! But the solution uses \"pizza\"\n",
    "# and \"New York NY\" if you want to compare your work directly\n",
    "term = 'pizza'\n",
    "location = 'New York NY'\n",
    "\n",
    "# Set up params for request\n",
    "url = \"https://api.yelp.com/v3/businesses/search\"\n",
    "headers = {\n",
    "    \"Authorization\": \"Bearer {}\".format(api_key)\n",
    "}\n",
    "url_params = {\n",
    "    \"term\": term.replace(\" \", \"+\"),\n",
    "    \"location\": location.replace(\" \", \"+\")\n",
    "}\n",
    "\n",
    "# Make the request using requests.get, passing in\n",
    "# url, headers=headers, and params=url_params\n",
    "response = requests.get(url, headers = headers, params = url_params)\n",
    "\n",
    "# Confirm we got a 200 response\n",
    "response"
   ]
  },
  {
   "cell_type": "code",
   "execution_count": 2,
   "metadata": {},
   "outputs": [
    {
     "data": {
      "text/plain": [
       "dict_keys(['businesses', 'total', 'region'])"
      ]
     },
     "execution_count": 2,
     "metadata": {},
     "output_type": "execute_result"
    }
   ],
   "source": [
    "# Run this cell without changes\n",
    "\n",
    "# Get the response body in JSON format\n",
    "response_json = response.json()\n",
    "# View the keys\n",
    "response_json.keys()"
   ]
  },
  {
   "cell_type": "markdown",
   "metadata": {},
   "source": [
    "### Extracting Data\n",
    "\n",
    "Now, retrieve the value associated with the `'businesses'` key, and inspect its contents."
   ]
  },
  {
   "cell_type": "code",
   "execution_count": 3,
   "metadata": {},
   "outputs": [
    {
     "data": {
      "text/plain": [
       "[{'id': 'zj8Lq1T8KIC5zwFief15jg',\n",
       "  'alias': 'prince-street-pizza-new-york-2',\n",
       "  'name': 'Prince Street Pizza',\n",
       "  'image_url': 'https://s3-media3.fl.yelpcdn.com/bphoto/ZAukOyv530w4KjOHC5YY1w/o.jpg',\n",
       "  'is_closed': False,\n",
       "  'url': 'https://www.yelp.com/biz/prince-street-pizza-new-york-2?adjust_creative=5kPyQnUAJczTYYSJSRyv0Q&utm_campaign=yelp_api_v3&utm_medium=api_v3_business_search&utm_source=5kPyQnUAJczTYYSJSRyv0Q',\n",
       "  'review_count': 4153,\n",
       "  'categories': [{'alias': 'pizza', 'title': 'Pizza'},\n",
       "   {'alias': 'italian', 'title': 'Italian'}],\n",
       "  'rating': 4.5,\n",
       "  'coordinates': {'latitude': 40.72308755605564,\n",
       "   'longitude': -73.99453001177575},\n",
       "  'transactions': ['pickup', 'delivery'],\n",
       "  'price': '$',\n",
       "  'location': {'address1': '27 Prince St',\n",
       "   'address2': None,\n",
       "   'address3': '',\n",
       "   'city': 'New York',\n",
       "   'zip_code': '10012',\n",
       "   'country': 'US',\n",
       "   'state': 'NY',\n",
       "   'display_address': ['27 Prince St', 'New York, NY 10012']},\n",
       "  'phone': '+12129664100',\n",
       "  'display_phone': '(212) 966-4100',\n",
       "  'distance': 1961.8771417367063},\n",
       " {'id': 'ysqgdbSrezXgVwER2kQWKA',\n",
       "  'alias': 'julianas-brooklyn-3',\n",
       "  'name': \"Juliana's\",\n",
       "  'image_url': 'https://s3-media2.fl.yelpcdn.com/bphoto/clscwgOF9_Ecq-Rwsq7jyQ/o.jpg',\n",
       "  'is_closed': False,\n",
       "  'url': 'https://www.yelp.com/biz/julianas-brooklyn-3?adjust_creative=5kPyQnUAJczTYYSJSRyv0Q&utm_campaign=yelp_api_v3&utm_medium=api_v3_business_search&utm_source=5kPyQnUAJczTYYSJSRyv0Q',\n",
       "  'review_count': 2390,\n",
       "  'categories': [{'alias': 'pizza', 'title': 'Pizza'}],\n",
       "  'rating': 4.5,\n",
       "  'coordinates': {'latitude': 40.70274718768062,\n",
       "   'longitude': -73.99343490196397},\n",
       "  'transactions': ['delivery'],\n",
       "  'price': '$$',\n",
       "  'location': {'address1': '19 Old Fulton St',\n",
       "   'address2': '',\n",
       "   'address3': '',\n",
       "   'city': 'Brooklyn',\n",
       "   'zip_code': '11201',\n",
       "   'country': 'US',\n",
       "   'state': 'NY',\n",
       "   'display_address': ['19 Old Fulton St', 'Brooklyn, NY 11201']},\n",
       "  'phone': '+17185966700',\n",
       "  'display_phone': '(718) 596-6700',\n",
       "  'distance': 308.56984360837544}]"
      ]
     },
     "execution_count": 3,
     "metadata": {},
     "output_type": "execute_result"
    }
   ],
   "source": [
    "# Replace None with appropriate code\n",
    "\n",
    "# Retrieve the value from response_json\n",
    "businesses = response_json['businesses']\n",
    "\n",
    "# View the first 2 records\n",
    "businesses[:2]"
   ]
  },
  {
   "cell_type": "markdown",
   "metadata": {},
   "source": [
    "### Preparing Data\n",
    "\n",
    "Write a function `prepare_data` that takes in a list of dictionaries like `businesses` and returns a copy that has been prepared for analysis:\n",
    "\n",
    "1. The `coordinates` key-value pair has been converted into two separate key-value pairs, `latitude` and `longitude`\n",
    "2. All other key-value pairs except for `name`, `review_count`, `rating`, and `price` have been dropped\n",
    "3. All dictionaries missing one of the relevant keys or containing null values have been dropped\n",
    "\n",
    "In other words, the final keys for each dictionary should be `name`, `review_count`, `rating`, `price`, `latitude`, and `longitude`.\n",
    "\n",
    "Complete the function in the cell below:"
   ]
  },
  {
   "cell_type": "code",
   "execution_count": 4,
   "metadata": {},
   "outputs": [
    {
     "data": {
      "text/plain": [
       "[{'name': 'Prince Street Pizza',\n",
       "  'review_count': 4153,\n",
       "  'rating': 4.5,\n",
       "  'price': '$',\n",
       "  'latitude': 40.72308755605564,\n",
       "  'longitude': -73.99453001177575},\n",
       " {'name': \"Juliana's\",\n",
       "  'review_count': 2390,\n",
       "  'rating': 4.5,\n",
       "  'price': '$$',\n",
       "  'latitude': 40.70274718768062,\n",
       "  'longitude': -73.99343490196397},\n",
       " {'name': \"Lombardi's Pizza\",\n",
       "  'review_count': 6245,\n",
       "  'rating': 4.0,\n",
       "  'price': '$$',\n",
       "  'latitude': 40.7215934960083,\n",
       "  'longitude': -73.9955956044561},\n",
       " {'name': 'Rubirosa',\n",
       "  'review_count': 2539,\n",
       "  'rating': 4.5,\n",
       "  'price': '$$',\n",
       "  'latitude': 40.722766,\n",
       "  'longitude': -73.996233},\n",
       " {'name': 'Lucali',\n",
       "  'review_count': 1747,\n",
       "  'rating': 4.0,\n",
       "  'price': '$$',\n",
       "  'latitude': 40.6818,\n",
       "  'longitude': -74.00024}]"
      ]
     },
     "execution_count": 4,
     "metadata": {},
     "output_type": "execute_result"
    }
   ],
   "source": [
    "# Replace None with appropriate code\n",
    "\n",
    "def prepare_data(data_list):\n",
    "    \"\"\"\n",
    "    This function takes in a list of dictionaries and prepares it\n",
    "    for analysis\n",
    "    \"\"\"\n",
    "    \n",
    "    # Make a new list to hold results\n",
    "    results = []\n",
    "    \n",
    "    for business_data in data_list:\n",
    "    \n",
    "        # Make a new dictionary to hold prepared data for this business\n",
    "        prepared_data = {}\n",
    "        \n",
    "        # Extract name, review_count, rating, and price key-value pairs\n",
    "        # from business_data and add to prepared_data\n",
    "        # If a key is not present in business_data, add it to prepared_data\n",
    "        # with an associated value of None\n",
    "        for key in (\"name\", \"review_count\", \"rating\", \"price\"):\n",
    "            prepared_data[key] = business_data.get(key, None)\n",
    "    \n",
    "        # Parse and add latitude and longitude columns\n",
    "        coordinates = business_data[\"coordinates\"]\n",
    "        prepared_data[\"latitude\"] = coordinates[\"latitude\"]\n",
    "        prepared_data[\"longitude\"] = coordinates[\"longitude\"]\n",
    "        \n",
    "        # Add to list if all values are present\n",
    "        if all(prepared_data.values()):\n",
    "            results.append(prepared_data)\n",
    "    \n",
    "    return results\n",
    "    \n",
    "# Test out function\n",
    "prepared_businesses = prepare_data(businesses)\n",
    "prepared_businesses[:5]"
   ]
  },
  {
   "cell_type": "markdown",
   "metadata": {},
   "source": [
    "Check that your function created the correct keys:"
   ]
  },
  {
   "cell_type": "code",
   "execution_count": 6,
   "metadata": {},
   "outputs": [],
   "source": [
    "# Run this cell without changes\n",
    "\n",
    "assert sorted(list(prepared_businesses[0].keys())) == ['latitude', 'longitude', 'name', 'price', 'rating', 'review_count']"
   ]
  },
  {
   "cell_type": "markdown",
   "metadata": {},
   "source": [
    "The following code will differ depending on your query, but we expect there to be 20 businesses in the original list, and potentially fewer in the prepared list (if any of them were missing data):"
   ]
  },
  {
   "cell_type": "code",
   "execution_count": 7,
   "metadata": {},
   "outputs": [
    {
     "name": "stdout",
     "output_type": "stream",
     "text": [
      "Original: 20\n",
      "Prepared: 20\n"
     ]
    }
   ],
   "source": [
    "# Run this cell without changes\n",
    "print(\"Original:\", len(businesses))\n",
    "print(\"Prepared:\", len(prepared_businesses))"
   ]
  },
  {
   "cell_type": "markdown",
   "metadata": {},
   "source": [
    "Great! We will reuse this function once we have retrieved the full dataset."
   ]
  },
  {
   "cell_type": "markdown",
   "metadata": {},
   "source": [
    "## 2. Add Pagination\n",
    "\n",
    "Now that you are able to extract information from one page of the response, let's figure out how to request as many pages as possible.\n",
    "\n",
    "### Determining the Total\n",
    "\n",
    "Depending on the number of total results for your query, you will either retrieve all of the results, or just the first 1000 (if there are more than 1000 total).\n",
    "\n",
    "We can find the total number of results using the `\"total\"` key:"
   ]
  },
  {
   "cell_type": "code",
   "execution_count": 8,
   "metadata": {},
   "outputs": [
    {
     "data": {
      "text/plain": [
       "240"
      ]
     },
     "execution_count": 8,
     "metadata": {},
     "output_type": "execute_result"
    }
   ],
   "source": [
    "# Run this cell without changes\n",
    "response_json[\"total\"]"
   ]
  },
  {
   "cell_type": "markdown",
   "metadata": {},
   "source": [
    "(This is specific to the implementation of the Yelp API. Some APIs will just tell you that there are more pages, or will tell you the number of pages total, rather than the total number of results. If you're not sure, always check the documentation.)\n",
    "\n",
    "In the cell below, assign the variable `total` to either the value shown above (if it is less than 1000), or 1000."
   ]
  },
  {
   "cell_type": "code",
   "execution_count": 9,
   "metadata": {},
   "outputs": [],
   "source": [
    "# Replace None with appropriate code\n",
    "total = 240"
   ]
  },
  {
   "cell_type": "markdown",
   "metadata": {},
   "source": [
    "### Calculating the Offsets\n",
    "\n",
    "The documentation states in the parameters section:\n",
    "\n",
    "> **Name**: `limit`, **Type:** int, **Description:** Optional. Number of business results to return. By default, it will return 20. Maximum is 50.\n",
    "\n",
    "> **Name**: `offset`, **Type:** int, **Description:** Optional. Offset the list of returned business results by this amount.\n",
    "\n",
    "So, to get the most results with the fewest API calls we want to set a limit of 50 every time. If, say, we wanted to get 210 total results, that would mean:\n",
    "\n",
    "1. Offset of `0` (first 50 records)\n",
    "2. Offset of `50` (second 50 records)\n",
    "3. Offset of `100` (third 50 records)\n",
    "4. Offset of `150` (fourth 50 records)\n",
    "5. Offset of `200` (final 10 records)\n",
    "\n",
    "In the cell below, create a function `get_offsets` that takes in a total and returns a list of offsets for that total. You can assume that there is a limit of 50 every time.\n",
    "\n",
    "*Hint: you can use `range` ([documentation here](https://docs.python.org/3.3/library/stdtypes.html?highlight=range#range)) to do this in one line of code. Just make the returned result is a list.*"
   ]
  },
  {
   "cell_type": "code",
   "execution_count": 10,
   "metadata": {},
   "outputs": [],
   "source": [
    "# Replace None with appropriate code\n",
    "def get_offsets(total):\n",
    "    \"\"\"\n",
    "    Get a list of offsets needed to get all pages\n",
    "    of data up until the total\n",
    "    \"\"\"\n",
    "    return list(range(0, total, 50))"
   ]
  },
  {
   "cell_type": "markdown",
   "metadata": {},
   "source": [
    "Check that your function works below:"
   ]
  },
  {
   "cell_type": "code",
   "execution_count": 11,
   "metadata": {},
   "outputs": [],
   "source": [
    "# Run this cell without changes\n",
    "\n",
    "assert get_offsets(200) == [0, 50, 100, 150]\n",
    "assert get_offsets(210) == [0, 50, 100, 150, 200]"
   ]
  },
  {
   "cell_type": "markdown",
   "metadata": {},
   "source": [
    "### Putting It All Together\n",
    "\n",
    "Recall that the following variable has already been declared for you:"
   ]
  },
  {
   "cell_type": "code",
   "execution_count": 12,
   "metadata": {},
   "outputs": [
    {
     "data": {
      "text/plain": [
       "{'term': 'pizza', 'location': 'New+York+NY'}"
      ]
     },
     "execution_count": 12,
     "metadata": {},
     "output_type": "execute_result"
    }
   ],
   "source": [
    "# Run this cell without changes\n",
    "url_params"
   ]
  },
  {
   "cell_type": "markdown",
   "metadata": {},
   "source": [
    "We'll go ahead and also specify that the limit should be 50 every time:"
   ]
  },
  {
   "cell_type": "code",
   "execution_count": 13,
   "metadata": {},
   "outputs": [],
   "source": [
    "# Run this cell without changes\n",
    "url_params[\"limit\"] = 50"
   ]
  },
  {
   "cell_type": "markdown",
   "metadata": {},
   "source": [
    "In order to modify the offset, you'll need to add it to `url_params` with the key `\"offset\"` and whatever value is needed.\n",
    "\n",
    "In the cell below, write code that:\n",
    "\n",
    "* Creates an empty list for the full prepared dataset\n",
    "* Loops over all of the offsets from `get_offsets` and makes an API call each time with the specified offset\n",
    "* Calls `prepare_data` to get a cleaned version of the result of each API call\n",
    "* Extends the full prepared dataset list with each query's prepared dataset"
   ]
  },
  {
   "cell_type": "code",
   "execution_count": 20,
   "metadata": {},
   "outputs": [
    {
     "data": {
      "text/plain": [
       "200"
      ]
     },
     "execution_count": 20,
     "metadata": {},
     "output_type": "execute_result"
    }
   ],
   "source": [
    "# Replace None with appropriate code\n",
    "\n",
    "# Create an empty list for the full prepared dataset\n",
    "full_dataset = []\n",
    "\n",
    "for offset in get_offsets(total):\n",
    "    # Add or update the \"offset\" key-value pair in url_params\n",
    "    url_params[\"offset\"] = offset\n",
    "    \n",
    "    # Make the query and get the response\n",
    "    response = requests.get(url, headers=headers, params=url_params)\n",
    "    \n",
    "    # Get the response body in JSON format\n",
    "    response_json = response.json()\n",
    "    \n",
    "    # Get the list of businesses from the response_json\n",
    "    businesses = response_json[\"businesses\"]\n",
    "    \n",
    "    # Call the prepare_data function to get a list of processed data\n",
    "    prepared_businesses = prepare_data(businesses)\n",
    "    \n",
    "    # Extend full_dataset with this list (don't append, or you'll get\n",
    "    # a list of lists instead of a flat list)\n",
    "    full_dataset.extend(prepared_businesses)\n",
    "\n",
    "# Check the length of the full dataset. It will be up to `total`,\n",
    "# potentially less if there were missing values\n",
    "len(full_dataset)"
   ]
  },
  {
   "cell_type": "markdown",
   "metadata": {},
   "source": [
    "This code may take up to a few minutes to run.\n",
    "\n",
    "If you get an error trying to get the response body in JSON format, try adding `time.sleep(1)` right after the `requests.get` line, so your code will sleep for 1 second between each API call."
   ]
  },
  {
   "cell_type": "markdown",
   "metadata": {},
   "source": [
    "## 3. Perform Exploratory Analysis\n",
    "\n",
    "Take the businesses from the previous question and do an initial exploratory analysis. We have provided some plots for you to interpret:"
   ]
  },
  {
   "cell_type": "code",
   "execution_count": 21,
   "metadata": {},
   "outputs": [
    {
     "data": {
      "image/png": "[encoded data removed]",
      "text/plain": [
       "<Figure size 1152x360 with 3 Axes>"
      ]
     },
     "metadata": {
      "needs_background": "light"
     },
     "output_type": "display_data"
    }
   ],
   "source": [
    "# Run this cell without changes\n",
    "from collections import Counter\n",
    "import matplotlib.pyplot as plt\n",
    "%matplotlib inline\n",
    "\n",
    "fig, (ax1, ax2, ax3) = plt.subplots(ncols=3, figsize=(16, 5))\n",
    "\n",
    "# Plot distribution of number of reviews\n",
    "all_review_counts = [x[\"review_count\"] for x in full_dataset]\n",
    "ax1.hist(all_review_counts)\n",
    "ax1.set_title(\"Review Count Distribution\")\n",
    "ax1.set_xlabel(\"Number of Reviews\")\n",
    "ax1.set_ylabel(\"Number of Businesses\")\n",
    "\n",
    "# Plot rating distribution\n",
    "all_ratings = [x[\"rating\"] for x in full_dataset]\n",
    "rating_counter = Counter(all_ratings)\n",
    "rating_keys = sorted(rating_counter.keys())\n",
    "ax2.bar(rating_keys, [rating_counter[key] for key in rating_keys])\n",
    "ax2.set_title(\"Rating Distribution\")\n",
    "ax2.set_xlabel(\"Rating\")\n",
    "ax2.set_ylabel(\"Number of Businesses\")\n",
    "\n",
    "# Plot price distribution\n",
    "all_prices = [x[\"price\"].replace(\"$\", r\"\\$\") for x in full_dataset]\n",
    "price_counter = Counter(all_prices)\n",
    "price_keys = sorted(price_counter.keys())\n",
    "ax3.bar(price_keys, [price_counter[key] for key in price_keys])\n",
    "ax3.set_title(\"Price Distribution\")\n",
    "ax3.set_xlabel(\"Price Category\")\n",
    "ax3.set_ylabel(\"Number of Businesses\");"
   ]
  },
  {
   "cell_type": "markdown",
   "metadata": {},
   "source": [
    "Describe the distributions displayed above and interpret them in the context of your query. (Your answer may differ from the solution branch depending on your query.)"
   ]
  },
  {
   "cell_type": "code",
   "execution_count": null,
   "metadata": {},
   "outputs": [],
   "source": [
    "# Replace None with appropriate text\n",
    "\"\"\"\n",
    "The vast majority of businesses have less than 1000 reviews, and most businesses have beween a 3.5 to 4.5 star rating.\n",
    "Pizza places in New York are most commonly in the $ and $$ categories, while a select few are more expensive. Generally,\n",
    "there is not a wide variety of types of pizza place: most have very similar customer bases, ratings, and price. \n",
    "\"\"\""
   ]
  },
  {
   "cell_type": "markdown",
   "metadata": {},
   "source": [
    "In the cell below, we also plot the rating distributions by price. In this setup, a price of one dollar sign is \"lower price\" and everything else is \"higher price\"."
   ]
  },
  {
   "cell_type": "code",
   "execution_count": 22,
   "metadata": {},
   "outputs": [
    {
     "data": {
      "image/png": "[encoded data removed]",
      "text/plain": [
       "<Figure size 432x288 with 1 Axes>"
      ]
     },
     "metadata": {
      "needs_background": "light"
     },
     "output_type": "display_data"
    }
   ],
   "source": [
    "# Run this cell without changes\n",
    "\n",
    "higher_price = []\n",
    "lower_price = []\n",
    "for row in full_dataset:\n",
    "    if row[\"price\"] == \"$\":\n",
    "        lower_price.append(row[\"rating\"])\n",
    "    else:\n",
    "        higher_price.append(row[\"rating\"])\n",
    "        \n",
    "fig, ax = plt.subplots()\n",
    "\n",
    "ax.hist([higher_price, lower_price], label=[\"higher price\", \"lower price\"], density=True)\n",
    "\n",
    "ax.legend();"
   ]
  },
  {
   "cell_type": "markdown",
   "metadata": {},
   "source": [
    "Is a higher price associated with a higher rating? (No need for any additional math/statistics, just interpret what you see in the plot.)"
   ]
  },
  {
   "cell_type": "code",
   "execution_count": null,
   "metadata": {},
   "outputs": [],
   "source": [
    "# Replace None with appropriate text\n",
    "\"\"\"\n",
    "There doesn't seem to be any strong indication that price and rating are correlated. Regardless of price range, almost\n",
    "all businesses are betwen a 4 and 4.5 star rating, so customers seem happy with the product they get relative to the price\n",
    "no matter what.\n",
    "\"\"\""
   ]
  },
  {
   "cell_type": "markdown",
   "metadata": {},
   "source": [
    "Finally, let's look at ratings vs. review counts:"
   ]
  },
  {
   "cell_type": "code",
   "execution_count": 23,
   "metadata": {},
   "outputs": [
    {
     "data": {
      "image/png": "[encoded data removed]",
      "text/plain": [
       "<Figure size 1152x360 with 1 Axes>"
      ]
     },
     "metadata": {
      "needs_background": "light"
     },
     "output_type": "display_data"
    }
   ],
   "source": [
    "# Run this cell without changes\n",
    "fig, ax = plt.subplots(figsize=(16,5))\n",
    "\n",
    "ax.scatter(all_review_counts, all_ratings, alpha=0.2)\n",
    "ax.set_xlabel(\"Number of Reviews\")\n",
    "ax.set_ylabel(\"Rating\")\n",
    "# \"zoom in\" to a subset of review counts\n",
    "ax.set_xlim(left=0, right=1000);"
   ]
  },
  {
   "cell_type": "markdown",
   "metadata": {},
   "source": [
    "Is a higher number of reviews associated with a higher rating?"
   ]
  },
  {
   "cell_type": "code",
   "execution_count": null,
   "metadata": {},
   "outputs": [],
   "source": [
    "# Replace None with appropriate text\n",
    "\"\"\"\n",
    "A pizza place that has a 4 rating is the most likely to have a higher number of reviews, but it's not obvious that it's due\n",
    "to a correlation between rating and number of reviews, but rather the fact that there are more 4 rated places generally. \n",
    "\n",
    "Whether it's a rating below 4 or above 4, a place with super high or super low rating is more likely to have fewer reviews \n",
    "than other places. So it seem that more reviews does not mean a higher rating, but a higher rating might mean fewer reviews.\n",
    "\"\"\""
   ]
  },
  {
   "cell_type": "markdown",
   "metadata": {},
   "source": [
    "## 4. Create a Folium Map\n",
    "\n",
    "Make a map using Folium of the businesses you retrieved. Be sure to also add popups to the markers giving some basic information such as name, rating and price.\n",
    "\n",
    "You can center the map around the latitude and longitude of the first item in `full_dataset`."
   ]
  },
  {
   "cell_type": "code",
   "execution_count": 24,
   "metadata": {},
   "outputs": [
    {
     "data": {
      "text/html": [
       "<div style=\"width:100%;\"><div style=\"position:relative;width:100%;height:0;padding-bottom:60%;\"><span style=\"color:#565656\">Make this Notebook Trusted to load map: File -> Trust Notebook</span><iframe src=\"about:blank\" style=\"position:absolute;width:100%;height:100%;left:0;top:0;border:none !important;\" data-html=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 onload=\"this.contentDocument.open();this.contentDocument.write(atob(this.getAttribute('data-html')));this.contentDocument.close();\" allowfullscreen webkitallowfullscreen mozallowfullscreen></iframe></div></div>"
      ],
      "text/plain": [
       "<folium.folium.Map at 0x20eca0f1d00>"
      ]
     },
     "execution_count": 24,
     "metadata": {},
     "output_type": "execute_result"
    }
   ],
   "source": [
    "# Replace None with appropriate code\n",
    "\n",
    "# Import the library\n",
    "import folium\n",
    "\n",
    "# Set up center latitude and longitude\n",
    "center_lat = full_dataset[0][\"latitude\"]\n",
    "center_long = full_dataset[0][\"longitude\"]\n",
    "\n",
    "# Initialize map with center lat and long\n",
    "yelp_map = folium.Map([center_lat, center_long], zoom_start=12)\n",
    "\n",
    "# Adjust this limit to see more or fewer businesses\n",
    "limit=100\n",
    "\n",
    "for business in full_dataset[:limit]:\n",
    "    # Extract information about business\n",
    "    lat = business[\"latitude\"]\n",
    "    long = business[\"longitude\"]\n",
    "    name = business[\"name\"]\n",
    "    rating = business[\"rating\"]\n",
    "    price = business[\"price\"]\n",
    "    details = \"{}\\nPrice: {}\\nRating: {}\".format(name,price,rating)\n",
    "    \n",
    "    # Create popup with relevant details\n",
    "    popup = folium.Popup(details)\n",
    "    \n",
    "    # Create marker with relevant lat/long and popup\n",
    "    marker = folium.Marker([lat, long], popup=popup)\n",
    "    \n",
    "    marker.add_to(yelp_map)\n",
    "    \n",
    "yelp_map"
   ]
  },
  {
   "cell_type": "markdown",
   "metadata": {},
   "source": [
    "## Summary\n",
    "\n",
    "Nice work! In this lab, you've made multiple API calls to Yelp in order to paginate through a results set, performing some basic exploratory analysis and then creating a nice interactive map to display the results using Folium! Well done!"
   ]
  }
 ],
 "metadata": {
  "kernelspec": {
   "display_name": "Python 3",
   "language": "python",
   "name": "python3"
  },
  "language_info": {
   "codemirror_mode": {
    "name": "ipython",
    "version": 3
   },
   "file_extension": ".py",
   "mimetype": "text/x-python",
   "name": "python",
   "nbconvert_exporter": "python",
   "pygments_lexer": "ipython3",
   "version": "3.8.5"
  },
  "toc": {
   "base_numbering": 1,
   "nav_menu": {},
   "number_sections": true,
   "sideBar": true,
   "skip_h1_title": false,
   "title_cell": "Table of Contents",
   "title_sidebar": "Contents",
   "toc_cell": false,
   "toc_position": {},
   "toc_section_display": true,
   "toc_window_display": false
  }
 },
 "nbformat": 4,
 "nbformat_minor": 2
}
